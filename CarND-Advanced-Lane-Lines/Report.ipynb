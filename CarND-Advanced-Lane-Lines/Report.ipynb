{
 "cells": [
  {
   "cell_type": "markdown",
   "metadata": {},
   "source": [
    "###  Report for Advanced Lane finding"
   ]
  },
  {
   "cell_type": "markdown",
   "metadata": {},
   "source": [
    "The goals / steps of this project are the following:\n",
    "\n",
    "* Compute the camera calibration matrix and distortion coefficients given a set of chessboard images.\n",
    "* Apply a distortion correction to raw images.\n",
    "* Use color transforms, gradients, etc., to create a thresholded binary image.\n",
    "* Apply a perspective transform to rectify binary image (\"birds-eye view\").\n",
    "* Detect lane pixels and fit to find the lane boundary.\n",
    "* Determine the curvature of the lane and vehicle position with respect to center.\n",
    "* Warp the detected lane boundaries back onto the original image.\n",
    "* Output visual display of the lane boundaries and numerical estimation of lane curvature and vehicle position."
   ]
  },
  {
   "cell_type": "markdown",
   "metadata": {},
   "source": [
    "#### Camera Calibration"
   ]
  },
  {
   "cell_type": "markdown",
   "metadata": {},
   "source": [
    "#### 1. Briefly state how you computed the camera matrix and distortion coefficients. Provide an example of a distortion corrected calibration image.\n",
    "\n",
    "The code for this step is contained in the third code cell of the IPython notebook located in \"./examples/example.ipynb\" (or in lines # through # of the file called `Advaced_Lane_P4.ipynb`).  \n",
    "\n",
    "I used OpenCV functions findChessboardCorners and calibrateCamera here. A number of images of a chessboard, taken from different angles with the same camera, comprise the input. Arrays of object points, corresponding to the location (essentially indices) of internal corners of a chessboard, and image points, the pixel locations of the internal chessboard corners determined by findChessboardCorners, are fed to calibrateCamera which returns camera calibration and distortion coefficients. These can then be used by the OpenCV undistort function to undo the effects of distortion on any image produced by the same camera. \n",
    "\n",
    "I start by preparing \"object points\", which will be the (x, y, z) coordinates of the chessboard corners in the world. Here I am assuming the chessboard is fixed on the (x, y) plane at z=0, such that the object points are the same for each calibration image.  Thus, `objp` is just a replicated array of coordinates, and `objpoints` will be appended with a copy of it every time I successfully detect all chessboard corners in a test image.  `imgpoints` will be appended with the (x, y) pixel position of each of the corners in the image plane with each successful chessboard detection.  \n",
    "\n",
    "I then used the output `objpoints` and `imgpoints` to compute the camera calibration and distortion coefficients using the `cv2.calibrateCamera()` function.  I applied this distortion correction to the test image using the `cv2.undistort()` function and obtained this result: \n"
   ]
  },
  {
   "cell_type": "markdown",
   "metadata": {},
   "source": [
    "![image](./report/calibrated.JPG)"
   ]
  },
  {
   "cell_type": "markdown",
   "metadata": {},
   "source": [
    "### Pipeline (single images)\n",
    "\n",
    "#### 1. Provide an example of a distortion-corrected image."
   ]
  },
  {
   "cell_type": "markdown",
   "metadata": {},
   "source": [
    "The image below depicts the results of applying undistort to one of the project images:"
   ]
  },
  {
   "cell_type": "markdown",
   "metadata": {},
   "source": [
    "![Fig](./report/road_calibrated.JPG)"
   ]
  },
  {
   "cell_type": "markdown",
   "metadata": {},
   "source": [
    "The difference can be noted by focusing on the hood of the car."
   ]
  },
  {
   "cell_type": "markdown",
   "metadata": {},
   "source": [
    "#### 2. Describe how (and identify where in your code) you used color transforms, gradients or other methods to create a thresholded binary image.  Provide an example of a binary image result."
   ]
  },
  {
   "cell_type": "markdown",
   "metadata": {},
   "source": [
    "I performed a combination of sobel thresholding and HLS thresholding (S to be specific). There were many iterations were done with the threshold value for sobel as well as HLS. FOllowing is the results obtained. "
   ]
  },
  {
   "cell_type": "markdown",
   "metadata": {},
   "source": [
    "\n",
    "![Img2](./report/threshold.jpg)"
   ]
  },
  {
   "cell_type": "markdown",
   "metadata": {},
   "source": [
    "There was no need to apply a region of interest on the sobel operator. This is becuase in the pipeline, perspective would change the image from dash view to topdown view. I tried applying the region of interest, results were the same and why wouldn't they be!"
   ]
  },
  {
   "cell_type": "markdown",
   "metadata": {},
   "source": [
    "#### 3. Describe how (and identify where in your code) you performed a perspective transform and provide an example of a transformed image."
   ]
  },
  {
   "cell_type": "markdown",
   "metadata": {},
   "source": [
    "The code for my perspective transform is a function named 'perspective_warped' in the Jupyter notebook, in the sixth code cells from the top. The function takes as inputs an image (img), as well as source (src) and destination (dst) points. I chose to hardcode the source and destination points in the following manner:\n",
    "\n",
    "\n",
    "```python\n",
    "src = src = np.float32([[580,460],[710,460],[1150,720],[150,720]])\n",
    "dst = np.float32([[offset1, offset3], \n",
    "                      [img_size[0]-offset1, offset3], \n",
    "                      [img_size[0]-offset1, img_size[1]-offset2], \n",
    "                      [offset1, img_size[1]-offset2]])\n",
    "```\n",
    "I had considered programmatically determining source and destination points, but I felt that I would get better results carefully selecting points using one of the straight_lines test images for reference and assuming that the camera position will remain constant and that the road in the videos will remain relatively flat. The image below demonstrates the results of the perspective transform:"
   ]
  },
  {
   "cell_type": "markdown",
   "metadata": {},
   "source": [
    "![Img2](./report/road_persp.jpg)![Img](./report/perspective.jpg)"
   ]
  },
  {
   "cell_type": "markdown",
   "metadata": {},
   "source": [
    "#### 4. Describe how (and identify where in your code) you identified lane-line pixels and fit their positions with a polynomial?"
   ]
  },
  {
   "cell_type": "markdown",
   "metadata": {},
   "source": [
    "I used a combination of 'find_lanes' and 'fit_lines' function in my provided jupyter notebook which identify lane lines and fit a second order polynomial to both right and left lane lines respectively.\n",
    "\n",
    "The first of these computes a histogram of the bottom half of the image and finds the bottom-most x position (or \"base\") of the left and right lane lines. These locations were identified from the local maxima of the left and right halves of the histogram.  The function then identifies nine windows from which to identify lane pixels, each one centered on the midpoint of the pixels from the window below. This effectively maps the lane lines up to the top of the binary image, and speeds processing by only searching for activated pixels over a small portion of the image. Pixels belonging to each lane line are identified and the Numpy polyfit() method fits a second order polynomial to each set of pixels. Below is the image representing all the aforementioned processes: \n"
   ]
  },
  {
   "cell_type": "markdown",
   "metadata": {},
   "source": [
    "![Img2](./report/fit.jpg)"
   ]
  },
  {
   "cell_type": "markdown",
   "metadata": {},
   "source": [
    "#### 5. Describe how (and identify where in your code) you calculated the radius of curvature of the lane and the position of the vehicle with respect to center."
   ]
  },
  {
   "cell_type": "markdown",
   "metadata": {},
   "source": [
    "The radius of curvature is based upon this website and calculated in the code cell titled \"Radius of Curvature and Distance from Lane Center Calculation\" using this line of code (altered for clarity):\n",
    "```python\n",
    "curve_radius = ((1 + (2*fit[0]*y_0*x_meters_per_pixel + fit[1])**2)**1.5) / np.absolute(2*fit[0])\n",
    "```\n",
    "\n",
    "In this example, fit[0] is the first coefficient (the y-squared coefficient) of the second order polynomial fit, and fit[1] is the second (y) coefficient. y_0 is the y position within the image upon which the curvature calculation is based (the bottom-most y - the position of the car in the image - was chosen). x_meters_per_pixel is the factor used for converting from pixels to meters. This conversion was also used to generate a new fit with coefficients in terms of meters.\n",
    "\n",
    "The position of the vehicle with respect to the center of the lane is calculated with the following lines of code:\n",
    "```python\n",
    "lane_center_position = (r_lane + l_lane) /2\n",
    "position = image_shape[1]/2\n",
    "center_dist = (position - lane_center_position) * x_meters_per_pix```\n",
    "r_lane and l_lane are the x-intercepts of the right and left fits, respectively.  The car position is the difference between these intercept points and the image midpoint (assuming that the camera is mounted at the center of the vehicle). In my code, these ae two separate functions named 'find_curvature' and 'find_position'."
   ]
  },
  {
   "cell_type": "markdown",
   "metadata": {},
   "source": [
    "#### 6. Provide an example image of your result plotted back down onto the road such that the lane area is identified clearly."
   ]
  },
  {
   "cell_type": "markdown",
   "metadata": {},
   "source": [
    "A 'draw_poly' funtion was created to plot the results back into road such that lane area could be identified. Minv was evaluated while taking the perspective transform. This Minv was def back into cv2.warpPerspective with warped image as the input. Once the input was obtained. This was merged with the actual untempered iamge using cv2.addWeighted with proper weights. \n",
    "\n",
    "Text was also added to this image in the font ```cv2.FONT_HERSHEY_SIMPLEX``` using ```cv2.putText```. This text was the output of ```find_radius``` and ```find_position```. Following is the image:"
   ]
  },
  {
   "cell_type": "markdown",
   "metadata": {},
   "source": [
    "![Img](./report/plotted.jpg)"
   ]
  },
  {
   "cell_type": "markdown",
   "metadata": {},
   "source": [
    "### Pipeline (video)\n",
    "\n",
    "#### 1. Provide a link to your final video output.  Your pipeline should perform reasonably well on the entire project video (wobbly lines are ok but no catastrophic failures that would cause the car to drive off the road!).\n",
    "\n",
    "Here's a [link to my video result](./white.mp4)"
   ]
  },
  {
   "cell_type": "markdown",
   "metadata": {},
   "source": [
    "### Discussion\n",
    "\n",
    "#### 1. Briefly discuss any problems / issues you faced in your implementation of this project.  Where will your pipeline likely fail?  What could you do to make it more robust?"
   ]
  },
  {
   "cell_type": "markdown",
   "metadata": {},
   "source": [
    "Issues: \n",
    "Finding the appropriate source points for perspective transform. This changed a lot of things for the effectiveness of the algorithm.\n",
    "Lane line were not detected in shadows or dark light (challenge video). I worked on the challange video butstill facing issues with loosing the track of lanes near the tunnel. May be averaging and better custom binary thresholding would solve this.\n",
    "What I have learned is that although it is relatively easy to finetune a software pipeline to work well for consistent road and weather conditions, it is a challenge finding a single combination which produces the same quality result in any condition.\n",
    "\n",
    "For the third harder challenge video, since there are very small radius curves frequently, decreasing the window length of the perspctive transfowm would help. Also, there is a problem with detecting the edge line and not the tree lines. May be more finetuning of perpective source cordinated needeed."
   ]
  },
  {
   "cell_type": "markdown",
   "metadata": {},
   "source": [
    "Here's a [link to my challenge video result](./Untitled Folder/challenge_white.mp4)\n",
    "\n",
    "This is not a very good result, and the shortcomings can be clearly seen. These were produced using Advaced_Lane_P4_harder.ipynb notebook which is just more tuning of the basic pipeline."
   ]
  },
  {
   "cell_type": "markdown",
   "metadata": {},
   "source": [
    "Here's a [link to my harder challenge video result](./Untitled Folder/challenge_harder_challenge_white.mp4)\n",
    "\n",
    "Again, the algorith is doing the basic process but is getting distracted by frequent turns and tree baseline on the right side.\n",
    "These were produced using Advaced_Lane_P4_harder_challenge.ipynb notebook which is just more tuning of the basic pipeline."
   ]
  },
  {
   "cell_type": "code",
   "execution_count": null,
   "metadata": {},
   "outputs": [],
   "source": []
  }
 ],
 "metadata": {
  "kernelspec": {
   "display_name": "Python 3",
   "language": "python",
   "name": "python3"
  },
  "language_info": {
   "codemirror_mode": {
    "name": "ipython",
    "version": 3
   },
   "file_extension": ".py",
   "mimetype": "text/x-python",
   "name": "python",
   "nbconvert_exporter": "python",
   "pygments_lexer": "ipython3",
   "version": "3.6.5"
  }
 },
 "nbformat": 4,
 "nbformat_minor": 2
}
